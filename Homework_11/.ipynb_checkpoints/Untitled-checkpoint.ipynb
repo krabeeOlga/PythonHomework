{
 "cells": [
  {
   "cell_type": "code",
   "execution_count": null,
   "metadata": {},
   "outputs": [],
   "source": []
  }
 ],
 "metadata": {
  "kernelspec": {
   "display_name": "env",
   "language": "python",
   "name": "python3"
  },
  "language_info": {
   "name": "python",
   "version": "3.11.1"
  },
  "vscode": {
   "interpreter": {
    "hash": "3bac53ea154c04c9fae6c68176985317130ad5ff0bb1a7523a3ce79178d8bbf7"
   }
  }
 },
 "nbformat": 4,
 "nbformat_minor": 5
}
